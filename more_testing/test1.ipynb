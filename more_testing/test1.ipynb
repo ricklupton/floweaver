{
 "cells": [
  {
   "cell_type": "code",
   "execution_count": 1,
   "id": "6c86326f-4c4b-4468-a583-049f503f1af7",
   "metadata": {
    "editable": true,
    "slideshow": {
     "slide_type": ""
    },
    "tags": []
   },
   "outputs": [],
   "source": [
    "from attr import evolve\n",
    "import pandas as pd\n",
    "from floweaver import *"
   ]
  },
  {
   "cell_type": "code",
   "execution_count": 2,
   "id": "83d56948-5c13-4254-bf85-0c4a009627ea",
   "metadata": {},
   "outputs": [],
   "source": [
    "dataset = Dataset.from_csv(\"../docs/cookbook/us-energy-consumption.csv\", dim_process_filename=\"../docs/cookbook/us-energy-consumption-processes.csv\")"
   ]
  },
  {
   "cell_type": "code",
   "execution_count": 3,
   "id": "f490b5b0-ad19-48fc-bef3-0456e154e864",
   "metadata": {},
   "outputs": [],
   "source": [
    "sources = ['Solar', 'Nuclear', 'Hydro', 'Wind', 'Geothermal',\n",
    "           'Natural_Gas', 'Coal', 'Biomass', 'Petroleum']\n",
    "\n",
    "uses = ['Residential', 'Commercial', 'Industrial', 'Transportation']"
   ]
  },
  {
   "cell_type": "code",
   "execution_count": 4,
   "id": "9664a9bb-f21b-411d-8571-315cb58b42b2",
   "metadata": {},
   "outputs": [],
   "source": [
    "nodes = {\n",
    "    'sources': ProcessGroup('type == \"source\"', Partition.Simple('process', sources), title='Sources'),\n",
    "    'imports': ProcessGroup(['Net_Electricity_Import'], title='Net electricity imports'),\n",
    "    'electricity': ProcessGroup(['Electricity_Generation'], title='Electricity Generation'),\n",
    "    'uses': ProcessGroup('type == \"use\"', partition=Partition.Simple('process', uses)),\n",
    "    \n",
    "    'energy_services': ProcessGroup(['Energy_Services'], title='Energy services'),\n",
    "    'rejected': ProcessGroup(['Rejected_Energy'], title='Rejected energy'),\n",
    "    \n",
    "    'direct_use': Waypoint(Partition.Simple('source', [\n",
    "        # This is a hack to hide the labels of the partition, there should be a better way...\n",
    "        (' '*i, [k]) for i, k in enumerate(sources)\n",
    "    ])),\n",
    "}\n",
    "\n",
    "ordering = [\n",
    "    [[], ['sources'], []],\n",
    "    [['imports'], ['electricity', 'direct_use'], []],\n",
    "    [[], ['uses'], []],\n",
    "    [[], ['rejected', 'energy_services'], []]\n",
    "]\n",
    "\n",
    "bundles = [\n",
    "    Bundle('sources', 'electricity'),\n",
    "    Bundle('sources', 'uses', waypoints=['direct_use']),\n",
    "    Bundle('electricity', 'uses'),\n",
    "    Bundle('imports', 'uses'),\n",
    "    Bundle('uses', 'energy_services'),\n",
    "    Bundle('uses', 'rejected'),\n",
    "    Bundle('electricity', 'rejected'),\n",
    "]"
   ]
  },
  {
   "cell_type": "code",
   "execution_count": 5,
   "id": "0c5cfcd8-9f3a-407f-8edf-00c9822e42de",
   "metadata": {},
   "outputs": [],
   "source": [
    "palette = {\n",
    "    'Solar': 'gold',\n",
    "    'Nuclear': 'red',\n",
    "    'Hydro': 'blue',\n",
    "    'Wind': 'purple',\n",
    "    'Geothermal': 'brown',\n",
    "    'Natural_Gas': 'steelblue',\n",
    "    'Coal': 'black',\n",
    "    'Biomass': 'lightgreen',\n",
    "    'Petroleum': 'green',\n",
    "    'Electricity': 'orange',\n",
    "    'Rejected energy': 'lightgrey',\n",
    "    'Energy services': 'dimgrey',\n",
    "}"
   ]
  },
  {
   "cell_type": "code",
   "execution_count": 6,
   "id": "500e24f3-cb22-4d19-9018-95c991533078",
   "metadata": {},
   "outputs": [
    {
     "data": {
      "application/vnd.jupyter.widget-view+json": {
       "model_id": "b48ae4fc2fec43d6801475b50b7f1729",
       "version_major": 2,
       "version_minor": 0
      },
      "text/plain": [
       "VBox(children=(SankeyWidget(groups=[{'id': 'sources', 'type': 'process', 'title': 'Sources', 'nodes': ['source…"
      ]
     },
     "execution_count": 6,
     "metadata": {},
     "output_type": "execute_result"
    }
   ],
   "source": [
    "sdd = SankeyDefinition(nodes, bundles, ordering,\n",
    "                       flow_partition=dataset.partition('type'))\n",
    "sankey_data = weave(sdd, dataset, palette=palette)\n",
    "\n",
    "sankey_data.to_widget(width=700, height=450, margins=dict(left=100, right=120), debugging=True)"
   ]
  },
  {
   "cell_type": "code",
   "execution_count": 7,
   "id": "4e7a3d95-6167-4175-9b34-17bd3c79ced8",
   "metadata": {},
   "outputs": [],
   "source": [
    "model = model_inputs(sankey_data, group_nodes = True)"
   ]
  },
  {
   "cell_type": "code",
   "execution_count": 8,
   "id": "05be9461-9f8d-46f9-83e9-3a3351425d92",
   "metadata": {},
   "outputs": [
    {
     "name": "stdout",
     "output_type": "stream",
     "text": [
      "ugabuga1\n",
      "ugabuga1.25\n",
      "ugabuga1.5\n",
      "ugabuga2\n",
      "ugabuga3\n",
      "<generator object optimise_node_order.<locals>.<genexpr> at 0x00000203FB3E3D10>\n",
      "ugabuga4\n",
      "ugabuga5\n",
      "ugabuga6\n",
      "ugabuga7\n",
      "ugabuga8\n"
     ]
    }
   ],
   "source": [
    "opt_order = optimise_node_order(model, group_nodes = True)"
   ]
  },
  {
   "cell_type": "code",
   "execution_count": 9,
   "id": "93987910-ac87-49b3-a976-a4f132586901",
   "metadata": {},
   "outputs": [
    {
     "data": {
      "application/vnd.jupyter.widget-view+json": {
       "model_id": "9a5f7905e5e540cf8c339e16fff0d2ec",
       "version_major": 2,
       "version_minor": 0
      },
      "text/plain": [
       "VBox(children=(SankeyWidget(groups=[{'id': 'sources', 'type': 'process', 'title': 'Sources', 'nodes': ['source…"
      ]
     },
     "execution_count": 9,
     "metadata": {},
     "output_type": "execute_result"
    }
   ],
   "source": [
    "sankey_data_evolved = evolve(sankey_data, ordering = opt_order)\n",
    "sankey_data_evolved.to_widget(width=700, height=450, margins=dict(left=100, right=120), debugging=True)"
   ]
  },
  {
   "cell_type": "code",
   "execution_count": 10,
   "id": "64439105-a230-4ee4-bbcd-56bafcb4e47f",
   "metadata": {},
   "outputs": [],
   "source": [
    "s_model = straightness_model(sankey_data)"
   ]
  },
  {
   "cell_type": "code",
   "execution_count": 11,
   "id": "54398ffb-fa01-4a06-a9ab-bac531099183",
   "metadata": {},
   "outputs": [],
   "source": [
    "ys = optimise_position(s_model, wslb = 5)"
   ]
  },
  {
   "cell_type": "code",
   "execution_count": 12,
   "id": "28392d80-9ace-47a5-ad96-5b2f43b5f2e8",
   "metadata": {},
   "outputs": [
    {
     "data": {
      "application/vnd.jupyter.widget-view+json": {
       "model_id": "d443419c363444289f36a646defe7b69",
       "version_major": 2,
       "version_minor": 0
      },
      "text/plain": [
       "VBox(children=(SankeyWidget(groups=[{'id': 'sources', 'type': 'process', 'title': 'Sources', 'nodes': ['source…"
      ]
     },
     "execution_count": 12,
     "metadata": {},
     "output_type": "execute_result"
    }
   ],
   "source": [
    "sankey_data.to_widget(width=700, height=450, margins=dict(left=100, right=120), debugging=True, forceY = ys, y_scale = 3)\n"
   ]
  },
  {
   "cell_type": "code",
   "execution_count": null,
   "id": "82f68f69-8534-4f16-9452-a9dfc204d08a",
   "metadata": {},
   "outputs": [],
   "source": []
  }
 ],
 "metadata": {
  "kernelspec": {
   "display_name": "venvsankey3.10.9",
   "language": "python",
   "name": "venvsankey3.10.9"
  },
  "language_info": {
   "codemirror_mode": {
    "name": "ipython",
    "version": 3
   },
   "file_extension": ".py",
   "mimetype": "text/x-python",
   "name": "python",
   "nbconvert_exporter": "python",
   "pygments_lexer": "ipython3",
   "version": "3.10.9"
  }
 },
 "nbformat": 4,
 "nbformat_minor": 5
}
