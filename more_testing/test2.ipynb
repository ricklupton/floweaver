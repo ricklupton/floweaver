{
 "cells": [
  {
   "cell_type": "code",
   "execution_count": 1,
   "id": "3a553a4a-e483-4fc6-a862-9d28c1a01af5",
   "metadata": {},
   "outputs": [],
   "source": [
    "import pandas as pd\n",
    "from floweaver import *\n",
    "from attr import evolve\n",
    "\n",
    "# Import the two relevant csv files as dictionaries \n",
    "flows = pd.read_csv('../docs/cookbook/us-energy-consumption.csv').to_dict('records')\n",
    "node_def = pd.read_csv('../docs/cookbook/us-energy-consumption-processes.csv').to_dict('records')\n",
    "dataset = Dataset.from_csv('../docs/cookbook/us-energy-consumption.csv','../docs/cookbook/us-energy-consumption-processes.csv')"
   ]
  },
  {
   "cell_type": "code",
   "execution_count": 2,
   "id": "c8d21a78-55fc-4211-b2fa-9e88f544818e",
   "metadata": {},
   "outputs": [
    {
     "data": {
      "text/plain": [
       "{'source': ProcessGroup(selection='type == \"source\"'),\n",
       " 'use': ProcessGroup(selection='type == \"use\"')}"
      ]
     },
     "execution_count": 2,
     "metadata": {},
     "output_type": "execute_result"
    }
   ],
   "source": [
    "nodes = generate_nodes(node_def, group_by='type')\n",
    "nodes"
   ]
  },
  {
   "cell_type": "code",
   "execution_count": 3,
   "id": "983b3986-35e0-434a-9a80-0e6f1fbb3367",
   "metadata": {},
   "outputs": [],
   "source": [
    "ordering = [\n",
    "    [[], ['sources'], []],\n",
    "    [['imports'], ['electricity', 'direct_use'], []],\n",
    "    [[], ['uses'], []],\n",
    "    [[], ['rejected', 'energy_services'], []]\n",
    "]"
   ]
  },
  {
   "cell_type": "code",
   "execution_count": 4,
   "id": "d2edad7f-9bb4-4209-b409-04d7baaa695b",
   "metadata": {},
   "outputs": [
    {
     "data": {
      "text/plain": [
       "[Bundle(source='sources', target='electricity'),\n",
       " Bundle(source='sources', target='uses', waypoints=('direct_use',)),\n",
       " Bundle(source='electricity', target='uses'),\n",
       " Bundle(source='imports', target='uses'),\n",
       " Bundle(source='uses', target='energy_services'),\n",
       " Bundle(source='uses', target='rejected'),\n",
       " Bundle(source='electricity', target='rejected')]"
      ]
     },
     "execution_count": 4,
     "metadata": {},
     "output_type": "execute_result"
    }
   ],
   "source": [
    "bundles = [\n",
    "    Bundle('sources', 'electricity'),\n",
    "    Bundle('sources', 'uses', waypoints=['direct_use']),\n",
    "    Bundle('electricity', 'uses'),\n",
    "    Bundle('imports', 'uses'),\n",
    "    Bundle('uses', 'energy_services'),\n",
    "    Bundle('uses', 'rejected'),\n",
    "    Bundle('electricity', 'rejected'),\n",
    "]\n",
    "bundles"
   ]
  },
  {
   "cell_type": "code",
   "execution_count": 5,
   "id": "391f4389-dc56-4707-9098-4337db226d6d",
   "metadata": {},
   "outputs": [],
   "source": [
    "palette = {\n",
    "    'Solar': 'gold',\n",
    "    'Nuclear': 'red',\n",
    "    'Hydro': 'blue',\n",
    "    'Wind': 'purple',\n",
    "    'Geothermal': 'brown',\n",
    "    'Natural_Gas': 'steelblue',\n",
    "    'Coal': 'black',\n",
    "    'Biomass': 'lightgreen',\n",
    "    'Petroleum': 'green',\n",
    "    'Electricity': 'orange',\n",
    "    'Rejected energy': 'lightgrey',\n",
    "    'Energy services': 'dimgrey',\n",
    "}"
   ]
  },
  {
   "cell_type": "code",
   "execution_count": 6,
   "id": "6a78da75-0f1c-442c-9c6e-c32d7a1ace02",
   "metadata": {},
   "outputs": [
    {
     "ename": "ValueError",
     "evalue": "Unknown source \"sources\" in bundle 0",
     "output_type": "error",
     "traceback": [
      "\u001b[1;31m---------------------------------------------------------------------------\u001b[0m",
      "\u001b[1;31mValueError\u001b[0m                                Traceback (most recent call last)",
      "Cell \u001b[1;32mIn[6], line 1\u001b[0m\n\u001b[1;32m----> 1\u001b[0m sdd \u001b[38;5;241m=\u001b[39m \u001b[43mSankeyDefinition\u001b[49m\u001b[43m(\u001b[49m\u001b[43mnodes\u001b[49m\u001b[43m,\u001b[49m\u001b[43m \u001b[49m\u001b[43mbundles\u001b[49m\u001b[43m,\u001b[49m\u001b[43m \u001b[49m\u001b[43mordering\u001b[49m\u001b[43m,\u001b[49m\n\u001b[0;32m      2\u001b[0m \u001b[43m                       \u001b[49m\u001b[43mflow_partition\u001b[49m\u001b[38;5;241;43m=\u001b[39;49m\u001b[43mdataset\u001b[49m\u001b[38;5;241;43m.\u001b[39;49m\u001b[43mpartition\u001b[49m\u001b[43m(\u001b[49m\u001b[38;5;124;43m'\u001b[39;49m\u001b[38;5;124;43mtype\u001b[39;49m\u001b[38;5;124;43m'\u001b[39;49m\u001b[43m)\u001b[49m\u001b[43m)\u001b[49m\n\u001b[0;32m      3\u001b[0m weave(sdd, dataset, palette\u001b[38;5;241m=\u001b[39mpalette) \\\n\u001b[0;32m      4\u001b[0m     \u001b[38;5;241m.\u001b[39mto_widget(width\u001b[38;5;241m=\u001b[39m\u001b[38;5;241m700\u001b[39m, height\u001b[38;5;241m=\u001b[39m\u001b[38;5;241m450\u001b[39m, margins\u001b[38;5;241m=\u001b[39m\u001b[38;5;28mdict\u001b[39m(left\u001b[38;5;241m=\u001b[39m\u001b[38;5;241m100\u001b[39m, right\u001b[38;5;241m=\u001b[39m\u001b[38;5;241m120\u001b[39m), debugging\u001b[38;5;241m=\u001b[39m\u001b[38;5;28;01mTrue\u001b[39;00m)\n",
      "File \u001b[1;32m<attrs generated init floweaver.sankey_definition.SankeyDefinition>:10\u001b[0m, in \u001b[0;36m__init__\u001b[1;34m(self, nodes, bundles, ordering, flow_selection, flow_partition, time_partition)\u001b[0m\n\u001b[0;32m      8\u001b[0m _setattr(\u001b[38;5;124m'\u001b[39m\u001b[38;5;124mtime_partition\u001b[39m\u001b[38;5;124m'\u001b[39m, time_partition)\n\u001b[0;32m      9\u001b[0m \u001b[38;5;28;01mif\u001b[39;00m _config\u001b[38;5;241m.\u001b[39m_run_validators \u001b[38;5;129;01mis\u001b[39;00m \u001b[38;5;28;01mTrue\u001b[39;00m:\n\u001b[1;32m---> 10\u001b[0m     \u001b[43m__attr_validator_bundles\u001b[49m\u001b[43m(\u001b[49m\u001b[38;5;28;43mself\u001b[39;49m\u001b[43m,\u001b[49m\u001b[43m \u001b[49m\u001b[43m__attr_bundles\u001b[49m\u001b[43m,\u001b[49m\u001b[43m \u001b[49m\u001b[38;5;28;43mself\u001b[39;49m\u001b[38;5;241;43m.\u001b[39;49m\u001b[43mbundles\u001b[49m\u001b[43m)\u001b[49m\n\u001b[0;32m     11\u001b[0m     __attr_validator_ordering(\u001b[38;5;28mself\u001b[39m, __attr_ordering, \u001b[38;5;28mself\u001b[39m\u001b[38;5;241m.\u001b[39mordering)\n",
      "File \u001b[1;32m~\\Sankey Project\\floweaver-master\\floweaver\\sankey_definition.py:63\u001b[0m, in \u001b[0;36m_validate_bundles\u001b[1;34m(instance, attribute, bundles)\u001b[0m\n\u001b[0;32m     61\u001b[0m \u001b[38;5;28;01mif\u001b[39;00m \u001b[38;5;129;01mnot\u001b[39;00m b\u001b[38;5;241m.\u001b[39mfrom_elsewhere:\n\u001b[0;32m     62\u001b[0m     \u001b[38;5;28;01mif\u001b[39;00m b\u001b[38;5;241m.\u001b[39msource \u001b[38;5;129;01mnot\u001b[39;00m \u001b[38;5;129;01min\u001b[39;00m instance\u001b[38;5;241m.\u001b[39mnodes:\n\u001b[1;32m---> 63\u001b[0m         \u001b[38;5;28;01mraise\u001b[39;00m \u001b[38;5;167;01mValueError\u001b[39;00m(\u001b[38;5;124m'\u001b[39m\u001b[38;5;124mUnknown source \u001b[39m\u001b[38;5;124m\"\u001b[39m\u001b[38;5;132;01m{}\u001b[39;00m\u001b[38;5;124m\"\u001b[39m\u001b[38;5;124m in bundle \u001b[39m\u001b[38;5;132;01m{}\u001b[39;00m\u001b[38;5;124m'\u001b[39m\u001b[38;5;241m.\u001b[39mformat(\n\u001b[0;32m     64\u001b[0m             b\u001b[38;5;241m.\u001b[39msource, k))\n\u001b[0;32m     65\u001b[0m     \u001b[38;5;28;01mif\u001b[39;00m \u001b[38;5;129;01mnot\u001b[39;00m \u001b[38;5;28misinstance\u001b[39m(instance\u001b[38;5;241m.\u001b[39mnodes[b\u001b[38;5;241m.\u001b[39msource], ProcessGroup):\n\u001b[0;32m     66\u001b[0m         \u001b[38;5;28;01mraise\u001b[39;00m \u001b[38;5;167;01mValueError\u001b[39;00m(\n\u001b[0;32m     67\u001b[0m             \u001b[38;5;124m'\u001b[39m\u001b[38;5;124mSource of bundle \u001b[39m\u001b[38;5;132;01m{}\u001b[39;00m\u001b[38;5;124m is not a process group\u001b[39m\u001b[38;5;124m'\u001b[39m\u001b[38;5;241m.\u001b[39mformat(k))\n",
      "\u001b[1;31mValueError\u001b[0m: Unknown source \"sources\" in bundle 0"
     ]
    }
   ],
   "source": [
    "sdd = SankeyDefinition(nodes, bundles, ordering,\n",
    "                       flow_partition=dataset.partition('type'))\n",
    "weave(sdd, dataset, palette=palette) \\\n",
    "    .to_widget(width=700, height=450, margins=dict(left=100, right=120), debugging=True)"
   ]
  },
  {
   "cell_type": "code",
   "execution_count": null,
   "id": "51a2bb79-9805-4e3f-ab5c-bd4a66f7a36b",
   "metadata": {},
   "outputs": [],
   "source": []
  }
 ],
 "metadata": {
  "kernelspec": {
   "display_name": "venvsankey",
   "language": "python",
   "name": "venvsankey"
  },
  "language_info": {
   "codemirror_mode": {
    "name": "ipython",
    "version": 3
   },
   "file_extension": ".py",
   "mimetype": "text/x-python",
   "name": "python",
   "nbconvert_exporter": "python",
   "pygments_lexer": "ipython3",
   "version": "3.12.4"
  }
 },
 "nbformat": 4,
 "nbformat_minor": 5
}
