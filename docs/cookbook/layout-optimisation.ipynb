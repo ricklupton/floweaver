{
 "cells": [
  {
   "cell_type": "markdown",
   "id": "38a096d4-8ad1-4f2d-b8be-6affdcd71c21",
   "metadata": {},
   "source": [
    "# Layout optimisation\n",
    "\n",
    "This example uses the same data as in the [US energy consumption example](us-energy-consumption.ipynb) to demonstrate node order and position optimisation. "
   ]
  },
  {
   "cell_type": "code",
   "execution_count": null,
   "id": "6c86326f-4c4b-4468-a583-049f503f1af7",
   "metadata": {
    "editable": true,
    "slideshow": {
     "slide_type": ""
    },
    "tags": []
   },
   "outputs": [],
   "source": [
    "from attr import evolve\n",
    "import pandas as pd\n",
    "from floweaver import *"
   ]
  },
  {
   "cell_type": "markdown",
   "id": "692e1ccf-c748-45b9-87f2-d7e8e4f5f021",
   "metadata": {},
   "source": [
    "Load the data and set up the Sankey Diagram Definition, as in the previous example:"
   ]
  },
  {
   "cell_type": "code",
   "execution_count": null,
   "id": "83d56948-5c13-4254-bf85-0c4a009627ea",
   "metadata": {},
   "outputs": [],
   "source": [
    "dataset = Dataset.from_csv(\"../docs/cookbook/us-energy-consumption.csv\", dim_process_filename=\"../docs/cookbook/us-energy-consumption-processes.csv\")"
   ]
  },
  {
   "cell_type": "code",
   "execution_count": null,
   "id": "f490b5b0-ad19-48fc-bef3-0456e154e864",
   "metadata": {},
   "outputs": [],
   "source": [
    "sources = ['Solar', 'Nuclear', 'Hydro', 'Wind', 'Geothermal',\n",
    "           'Natural_Gas', 'Coal', 'Biomass', 'Petroleum']\n",
    "\n",
    "uses = ['Residential', 'Commercial', 'Industrial', 'Transportation']"
   ]
  },
  {
   "cell_type": "code",
   "execution_count": null,
   "id": "9664a9bb-f21b-411d-8571-315cb58b42b2",
   "metadata": {},
   "outputs": [],
   "source": [
    "nodes = {\n",
    "    'sources': ProcessGroup('type == \"source\"', Partition.Simple('process', sources), title='Sources'),\n",
    "    'imports': ProcessGroup(['Net_Electricity_Import'], title='Net electricity imports'),\n",
    "    'electricity': ProcessGroup(['Electricity_Generation'], title='Electricity Generation'),\n",
    "    'uses': ProcessGroup('type == \"use\"', partition=Partition.Simple('process', uses)),\n",
    "    \n",
    "    'energy_services': ProcessGroup(['Energy_Services'], title='Energy services'),\n",
    "    'rejected': ProcessGroup(['Rejected_Energy'], title='Rejected energy'),\n",
    "    \n",
    "    'direct_use': Waypoint(Partition.Simple('source', [\n",
    "        # This is a hack to hide the labels of the partition, there should be a better way...\n",
    "        (' '*i, [k]) for i, k in enumerate(sources)\n",
    "    ])),\n",
    "}\n",
    "\n",
    "ordering = [\n",
    "    [[], ['sources'], []],\n",
    "    [['imports'], ['electricity', 'direct_use'], []],\n",
    "    [[], ['uses'], []],\n",
    "    [[], ['rejected', 'energy_services'], []]\n",
    "]\n",
    "\n",
    "bundles = [\n",
    "    Bundle('sources', 'electricity'),\n",
    "    Bundle('sources', 'uses', waypoints=['direct_use']),\n",
    "    Bundle('electricity', 'uses'),\n",
    "    Bundle('imports', 'uses'),\n",
    "    Bundle('uses', 'energy_services'),\n",
    "    Bundle('uses', 'rejected'),\n",
    "    Bundle('electricity', 'rejected'),\n",
    "]"
   ]
  },
  {
   "cell_type": "code",
   "execution_count": null,
   "id": "0c5cfcd8-9f3a-407f-8edf-00c9822e42de",
   "metadata": {},
   "outputs": [],
   "source": [
    "palette = {\n",
    "    'Solar': 'gold',\n",
    "    'Nuclear': 'red',\n",
    "    'Hydro': 'blue',\n",
    "    'Wind': 'purple',\n",
    "    'Geothermal': 'brown',\n",
    "    'Natural_Gas': 'steelblue',\n",
    "    'Coal': 'black',\n",
    "    'Biomass': 'lightgreen',\n",
    "    'Petroleum': 'green',\n",
    "    'Electricity': 'orange',\n",
    "    'Rejected energy': 'lightgrey',\n",
    "    'Energy services': 'dimgrey',\n",
    "}"
   ]
  },
  {
   "cell_type": "code",
   "execution_count": null,
   "id": "a26aa4f7-e57e-48c6-b1f1-6f80ec294755",
   "metadata": {},
   "outputs": [],
   "source": [
    "sdd = SankeyDefinition(nodes, bundles, ordering,\n",
    "                       flow_partition=dataset.partition('type'))\n",
    "sankey_data = weave(sdd, dataset, palette=palette)"
   ]
  },
  {
   "cell_type": "markdown",
   "id": "6bd354ef-b106-45ef-9333-e9abcdf2f8a7",
   "metadata": {},
   "source": [
    "This is the default, un-optimised layout:"
   ]
  },
  {
   "cell_type": "code",
   "execution_count": null,
   "id": "d112fb8e-73d6-4b27-a15e-df481b4d4860",
   "metadata": {},
   "outputs": [],
   "source": [
    "sankey_data.to_widget(width=700, height=450, margins=dict(left=100, right=120))"
   ]
  },
  {
   "cell_type": "markdown",
   "id": "81d211d5-d8ee-4a3d-887c-898eb1fffc2c",
   "metadata": {},
   "source": [
    "Optimise the node ordering:"
   ]
  },
  {
   "cell_type": "code",
   "execution_count": null,
   "id": "4e7a3d95-6167-4175-9b34-17bd3c79ced8",
   "metadata": {},
   "outputs": [],
   "source": [
    "sankey_data_evolved = optimise_node_order(sankey_data, group_nodes=True)"
   ]
  },
  {
   "cell_type": "code",
   "execution_count": null,
   "id": "93987910-ac87-49b3-a976-a4f132586901",
   "metadata": {},
   "outputs": [],
   "source": [
    "sankey_data_evolved.to_widget(width=700, height=450, margins=dict(left=100, right=120), debugging=True)"
   ]
  },
  {
   "cell_type": "markdown",
   "id": "9ebd8d00-bc92-4858-88e4-214f48b6c6d4",
   "metadata": {},
   "source": [
    "Optimise the node positions to make flows as straight as possible:"
   ]
  },
  {
   "cell_type": "code",
   "execution_count": null,
   "id": "28392d80-9ace-47a5-ad96-5b2f43b5f2e8",
   "metadata": {},
   "outputs": [],
   "source": [
    "sankey_data_evolved.to_widget(layout=optimise_node_positions(sankey_data_evolved, scale=1))\n"
   ]
  }
 ],
 "metadata": {
  "kernelspec": {
   "display_name": "Python 3 (ipykernel)",
   "language": "python",
   "name": "python3"
  },
  "language_info": {
   "codemirror_mode": {
    "name": "ipython",
    "version": 3
   },
   "file_extension": ".py",
   "mimetype": "text/x-python",
   "name": "python",
   "nbconvert_exporter": "python",
   "pygments_lexer": "ipython3",
   "version": "3.9.19"
  }
 },
 "nbformat": 4,
 "nbformat_minor": 5
}
